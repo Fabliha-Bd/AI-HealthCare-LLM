{
 "cells": [
  {
   "cell_type": "markdown",
   "id": "8af85389",
   "metadata": {},
   "source": [
    "GitHub Repository Link: https://github.com/Fabliha-Bd/AI-HealthCare-LLM/"
   ]
  },
  {
   "cell_type": "code",
   "execution_count": null,
   "id": "80567bf9",
   "metadata": {},
   "outputs": [],
   "source": [
    "import pandas as pd\n",
    "import numpy as np\n",
    "import openai\n",
    "from tqdm.notebook import tqdm\n",
    "from sklearn.model_selection import train_test_split\n",
    "from sklearn.metrics import roc_auc_score, average_precision_score\n",
    "from openai import OpenAI\n"
   ]
  },
  {
   "cell_type": "markdown",
   "id": "764b99d7",
   "metadata": {},
   "source": [
    "# Data Loading"
   ]
  },
  {
   "cell_type": "code",
   "execution_count": 2,
   "id": "1f291c70",
   "metadata": {},
   "outputs": [
    {
     "name": "stdout",
     "output_type": "stream",
     "text": [
      "        START        STOP                               PATIENT  \\\n",
      "0  2019-02-15  2019-08-01  f0f3bc8d-ef38-49ce-a2bd-dfdda982b271   \n",
      "1  2019-10-30  2020-01-30  f0f3bc8d-ef38-49ce-a2bd-dfdda982b271   \n",
      "2  2020-03-01  2020-03-30  f0f3bc8d-ef38-49ce-a2bd-dfdda982b271   \n",
      "3  2020-03-01  2020-03-01  f0f3bc8d-ef38-49ce-a2bd-dfdda982b271   \n",
      "4  2020-03-01  2020-03-30  f0f3bc8d-ef38-49ce-a2bd-dfdda982b271   \n",
      "\n",
      "                              ENCOUNTER       CODE         DESCRIPTION  \n",
      "0  d5ee30a9-362f-429e-a87a-ee38d999b0a5   65363002        Otitis media  \n",
      "1  8bca6d8a-ab80-4cbf-8abb-46654235f227   65363002        Otitis media  \n",
      "2  681c380b-3c84-4c55-80a6-db3d9ea12fee  386661006     Fever (finding)  \n",
      "3  681c380b-3c84-4c55-80a6-db3d9ea12fee  840544004  Suspected COVID-19  \n",
      "4  681c380b-3c84-4c55-80a6-db3d9ea12fee  840539006            COVID-19  \n"
     ]
    }
   ],
   "source": [
    "conditions = pd.read_csv(\"data/conditions.csv\")\n",
    "print(conditions.head())\n",
    "medications = pd.read_csv(\"data/medications.csv\")\n",
    "print(medications.head())\n",
    "encounters = pd.read_csv(\"data/encounters.csv\")\n",
    "print(encounters.head())\n",
    "patients = pd.read_csv(\"data/patients.csv\")\n",
    "print(patients.head())\n"
   ]
  },
  {
   "cell_type": "markdown",
   "id": "ae4d8e0f",
   "metadata": {},
   "source": [
    "# Data Processing"
   ]
  },
  {
   "cell_type": "markdown",
   "id": "dc68f5bf",
   "metadata": {},
   "source": [
    "Identifying covid-19 patients"
   ]
  },
  {
   "cell_type": "code",
   "execution_count": 6,
   "id": "1320dc3d",
   "metadata": {},
   "outputs": [],
   "source": [
    "covid_conditions = conditions[\n",
    "    conditions[\"DESCRIPTION\"].str.contains(\"COVID-19\", case=False, na=False)\n",
    "]\n",
    "covid_patient_ids = covid_conditions[\"PATIENT\"].unique()"
   ]
  },
  {
   "cell_type": "code",
   "execution_count": 7,
   "id": "4724bdfa",
   "metadata": {},
   "outputs": [
    {
     "name": "stdout",
     "output_type": "stream",
     "text": [
      "(262959, 13)\n",
      "(205207, 15)\n",
      "(9106, 25)\n"
     ]
    }
   ],
   "source": [
    "covid_meds = medications[medications[\"PATIENT\"].isin(covid_patient_ids)]\n",
    "covid_encounters = encounters[encounters[\"PATIENT\"].isin(covid_patient_ids)]\n",
    "covid_patients = patients[patients[\"Id\"].isin(covid_patient_ids)]\n",
    "print(covid_meds.shape)\n",
    "print(covid_encounters.shape)\n",
    "print(covid_patients.shape)"
   ]
  },
  {
   "cell_type": "markdown",
   "id": "1e706606",
   "metadata": {},
   "source": [
    "Determine survival (DEATHDATE is null = survived)"
   ]
  },
  {
   "cell_type": "code",
   "execution_count": 8,
   "id": "140c6472",
   "metadata": {},
   "outputs": [
    {
     "name": "stdout",
     "output_type": "stream",
     "text": [
      "(9106, 26)\n"
     ]
    },
    {
     "name": "stderr",
     "output_type": "stream",
     "text": [
      "C:\\Users\\fabli\\AppData\\Local\\Temp\\ipykernel_21676\\1188874912.py:1: SettingWithCopyWarning: \n",
      "A value is trying to be set on a copy of a slice from a DataFrame.\n",
      "Try using .loc[row_indexer,col_indexer] = value instead\n",
      "\n",
      "See the caveats in the documentation: https://pandas.pydata.org/pandas-docs/stable/user_guide/indexing.html#returning-a-view-versus-a-copy\n",
      "  covid_patients[\"SURVIVED\"] = covid_patients[\"DEATHDATE\"].isna().astype(int)\n"
     ]
    }
   ],
   "source": [
    "covid_patients[\"SURVIVED\"] = covid_patients[\"DEATHDATE\"].isna().astype(int)\n",
    "print(covid_patients.shape)\n"
   ]
  },
  {
   "cell_type": "code",
   "execution_count": 47,
   "id": "9c2628df",
   "metadata": {},
   "outputs": [
    {
     "name": "stdout",
     "output_type": "stream",
     "text": [
      "(6770, 3)\n",
      "                                PATIENT  \\\n",
      "0  f0f3bc8d-ef38-49ce-a2bd-dfdda982b271   \n",
      "1  067318a4-db8f-447f-8b6e-f2f61e9baaa5   \n",
      "2  ae9efba3-ddc4-43f9-a781-f72019388548   \n",
      "3  199c586f-af16-4091-9998-ee4cfc02ee7a   \n",
      "5  f58bf921-cba1-475a-b4f8-dc6fa3b8f89c   \n",
      "\n",
      "                                         MEDICATIONS  SURVIVED  \n",
      "0  [Amoxicillin 250 MG Oral Capsule, Acetaminophe...         1  \n",
      "1  [Acetaminophen 160 MG Chewable Tablet, Penicil...         1  \n",
      "2  [amLODIPine 5 MG / Hydrochlorothiazide 12.5 MG...         1  \n",
      "3                            [Jolivette 28 Day Pack]         1  \n",
      "5  [1 ML Enoxaparin sodium 150 MG/ML Prefilled Sy...         1  \n"
     ]
    }
   ],
   "source": [
    "# Aggregate medications into list\n",
    "med_summary = covid_meds.groupby(\"PATIENT\")[\"DESCRIPTION\"].apply(lambda x: list(set(x))).reset_index()\n",
    "\n",
    "# Merge everything into a summary table\n",
    "summary = covid_patients.merge(med_summary, left_on=\"Id\", right_on=\"PATIENT\", how=\"left\")\n",
    "summary = summary[[\"Id\", \"DESCRIPTION\", \"SURVIVED\"]]\n",
    "summary.columns = [\"PATIENT\", \"MEDICATIONS\", \"SURVIVED\"]\n",
    "summary.dropna(subset=[\"MEDICATIONS\"], inplace=True)\n",
    "print(summary.shape)\n",
    "print(summary.head())\n"
   ]
  },
  {
   "cell_type": "code",
   "execution_count": 50,
   "id": "48d74225",
   "metadata": {},
   "outputs": [
    {
     "name": "stderr",
     "output_type": "stream",
     "text": [
      "C:\\Users\\fabli\\AppData\\Local\\Temp\\ipykernel_21676\\1201546515.py:3: DeprecationWarning: DataFrameGroupBy.apply operated on the grouping columns. This behavior is deprecated, and in a future version of pandas the grouping columns will be excluded from the operation. Either pass `include_groups=False` to exclude the groupings or explicitly select the grouping columns after groupby to silence this warning.\n",
      "  balanced_summary = summary.groupby(\"SURVIVED\").apply(lambda x: x.sample(n=min_count, random_state=1) if len(x) >= 25 else x)\n"
     ]
    },
    {
     "data": {
      "text/plain": [
       "(10, 3)"
      ]
     },
     "execution_count": 50,
     "metadata": {},
     "output_type": "execute_result"
    }
   ],
   "source": [
    "min_count = summary['SURVIVED'].value_counts().min()\n",
    "\n",
    "balanced_summary = summary.groupby(\"SURVIVED\").apply(lambda x: x.sample(n=min_count, random_state=1) if len(x) >= 25 else x)\n",
    "balanced_summary = balanced_summary.sample(n=50, random_state=1).reset_index(drop=True)\n",
    "\n",
    "train_df, test_df = train_test_split(balanced_summary, test_size=0.2, random_state=42)\n",
    "test_df.shape\n"
   ]
  },
  {
   "cell_type": "code",
   "execution_count": 68,
   "id": "bd8fbff6",
   "metadata": {},
   "outputs": [
    {
     "name": "stdout",
     "output_type": "stream",
     "text": [
      "(10, 15)\n",
      "(40, 3)\n"
     ]
    }
   ],
   "source": [
    "test_df.to_csv(\"test_df_covid_survival.csv\", index=False)\n",
    "print(test_df.shape)\n",
    "train_df.to_csv(\"train_df_covid_survival.csv\", index=False)\n",
    "print(train_df.shape)\n"
   ]
  },
  {
   "cell_type": "markdown",
   "id": "b53461d5",
   "metadata": {},
   "source": [
    "# openAI gpt calls using multiple techniques"
   ]
  },
  {
   "cell_type": "markdown",
   "id": "06c6b1d4",
   "metadata": {},
   "source": [
    "openAI API key setup"
   ]
  },
  {
   "cell_type": "code",
   "execution_count": null,
   "id": "22bd5060",
   "metadata": {},
   "outputs": [],
   "source": [
    "\n",
    "client = OpenAI(api_key=\"use-your-openAIsecretKey-here\")"
   ]
  },
  {
   "cell_type": "code",
   "execution_count": 89,
   "id": "2e78694b",
   "metadata": {},
   "outputs": [],
   "source": [
    "# create prompt\n",
    "def create_prompt(row):\n",
    "    meds = \", \".join(row[\"MEDICATIONS\"][:5])\n",
    "    return f\"\"\"Patient was treated for COVID-19 with medications: {meds}.\n",
    "            Respond only with one word: 'Survived' or 'Did not survive'.\"\"\"\n",
    "\n",
    "test_df[\"LLM_PROMPT\"] = test_df.apply(create_prompt, axis=1)\n"
   ]
  },
  {
   "cell_type": "code",
   "execution_count": 91,
   "id": "ca78d407",
   "metadata": {},
   "outputs": [],
   "source": [
    "# chain of thought\n",
    "def create_cot_prompt(row):\n",
    "    meds = \", \".join(row[\"MEDICATIONS\"][:5])\n",
    "    return f\"\"\"The patient had COVID-19 and was treated with: {meds}.\n",
    "These medications are commonly used for managing COVID-19 symptoms.\n",
    "Based on the medications listed, what is the likely outcome for this patient?\n",
    "Respond with one word : 'Survived' or 'Did not survive'.\"\"\"\n",
    "\n",
    "test_df[\"LLM_PROMPT_COT\"] = test_df.apply(create_cot_prompt, axis=1)"
   ]
  },
  {
   "cell_type": "code",
   "execution_count": 92,
   "id": "c2c1278f",
   "metadata": {},
   "outputs": [],
   "source": [
    "# tree of thought\n",
    "def create_tot_prompt(row):\n",
    "    meds = \", \".join(row[\"MEDICATIONS\"][:5])\n",
    "    return f\"\"\"Patient was treated for COVID-19 with medications: {meds}.\n",
    "\n",
    "Step 1: List three possible interpretations of the patient's condition based on the medications.\n",
    "Step 2: For each interpretation, consider what the outcome might be.\n",
    "Step 3: Choose the most likely outcome and respond with only one word: 'Survived' or 'Did not survive'.\"\"\"\n",
    "\n",
    "test_df[\"LLM_PROMPT_TOT\"] = test_df.apply(create_tot_prompt, axis=1)"
   ]
  },
  {
   "cell_type": "code",
   "execution_count": null,
   "id": "930fa661",
   "metadata": {},
   "outputs": [],
   "source": [
    "\n",
    "def ask_openai(prompt):\n",
    "    try:\n",
    "        response = client.chat.completions.create(\n",
    "            model=\"gpt-4\",\n",
    "            messages=[\n",
    "                {\"role\": \"system\", \"content\": \"You are a medical assistant helping assess COVID-19 patient outcomes.\"},\n",
    "                {\"role\": \"user\", \"content\": prompt}\n",
    "            ],\n",
    "            temperature=0.7\n",
    "        )\n",
    "        return response.choices[0].message.content.strip()\n",
    "\n",
    "    except Exception as e:\n",
    "        return str(e)\n",
    "\n"
   ]
  },
  {
   "cell_type": "code",
   "execution_count": 59,
   "id": "0e6fc1b9",
   "metadata": {},
   "outputs": [
    {
     "data": {
      "application/vnd.jupyter.widget-view+json": {
       "model_id": "8e25f51a02124b4eada7d68672bc6a75",
       "version_major": 2,
       "version_minor": 0
      },
      "text/plain": [
       "Running GPT calls:   0%|          | 0/10 [00:00<?, ?it/s]"
      ]
     },
     "metadata": {},
     "output_type": "display_data"
    },
    {
     "data": {
      "text/html": [
       "<div>\n",
       "<style scoped>\n",
       "    .dataframe tbody tr th:only-of-type {\n",
       "        vertical-align: middle;\n",
       "    }\n",
       "\n",
       "    .dataframe tbody tr th {\n",
       "        vertical-align: top;\n",
       "    }\n",
       "\n",
       "    .dataframe thead th {\n",
       "        text-align: right;\n",
       "    }\n",
       "</style>\n",
       "<table border=\"1\" class=\"dataframe\">\n",
       "  <thead>\n",
       "    <tr style=\"text-align: right;\">\n",
       "      <th></th>\n",
       "      <th>LLM_PROMPT</th>\n",
       "      <th>LLM_RESPONSE</th>\n",
       "      <th>SURVIVED</th>\n",
       "    </tr>\n",
       "  </thead>\n",
       "  <tbody>\n",
       "    <tr>\n",
       "      <th>13</th>\n",
       "      <td>Patient was treated for COVID-19 with medicati...</td>\n",
       "      <td>Survived</td>\n",
       "      <td>1</td>\n",
       "    </tr>\n",
       "    <tr>\n",
       "      <th>39</th>\n",
       "      <td>Patient was treated for COVID-19 with medicati...</td>\n",
       "      <td>Survived</td>\n",
       "      <td>1</td>\n",
       "    </tr>\n",
       "    <tr>\n",
       "      <th>30</th>\n",
       "      <td>Patient was treated for COVID-19 with medicati...</td>\n",
       "      <td>Survived</td>\n",
       "      <td>1</td>\n",
       "    </tr>\n",
       "    <tr>\n",
       "      <th>45</th>\n",
       "      <td>Patient was treated for COVID-19 with medicati...</td>\n",
       "      <td>As an AI language model developed by OpenAI, I...</td>\n",
       "      <td>0</td>\n",
       "    </tr>\n",
       "    <tr>\n",
       "      <th>17</th>\n",
       "      <td>Patient was treated for COVID-19 with medicati...</td>\n",
       "      <td>Survived</td>\n",
       "      <td>0</td>\n",
       "    </tr>\n",
       "    <tr>\n",
       "      <th>48</th>\n",
       "      <td>Patient was treated for COVID-19 with medicati...</td>\n",
       "      <td>As an AI model developed by OpenAI, I don't ha...</td>\n",
       "      <td>0</td>\n",
       "    </tr>\n",
       "    <tr>\n",
       "      <th>26</th>\n",
       "      <td>Patient was treated for COVID-19 with medicati...</td>\n",
       "      <td>Survived</td>\n",
       "      <td>1</td>\n",
       "    </tr>\n",
       "    <tr>\n",
       "      <th>25</th>\n",
       "      <td>Patient was treated for COVID-19 with medicati...</td>\n",
       "      <td>Survived</td>\n",
       "      <td>0</td>\n",
       "    </tr>\n",
       "    <tr>\n",
       "      <th>32</th>\n",
       "      <td>Patient was treated for COVID-19 with medicati...</td>\n",
       "      <td>Survived</td>\n",
       "      <td>0</td>\n",
       "    </tr>\n",
       "    <tr>\n",
       "      <th>19</th>\n",
       "      <td>Patient was treated for COVID-19 with medicati...</td>\n",
       "      <td>Survived</td>\n",
       "      <td>1</td>\n",
       "    </tr>\n",
       "  </tbody>\n",
       "</table>\n",
       "</div>"
      ],
      "text/plain": [
       "                                           LLM_PROMPT  \\\n",
       "13  Patient was treated for COVID-19 with medicati...   \n",
       "39  Patient was treated for COVID-19 with medicati...   \n",
       "30  Patient was treated for COVID-19 with medicati...   \n",
       "45  Patient was treated for COVID-19 with medicati...   \n",
       "17  Patient was treated for COVID-19 with medicati...   \n",
       "48  Patient was treated for COVID-19 with medicati...   \n",
       "26  Patient was treated for COVID-19 with medicati...   \n",
       "25  Patient was treated for COVID-19 with medicati...   \n",
       "32  Patient was treated for COVID-19 with medicati...   \n",
       "19  Patient was treated for COVID-19 with medicati...   \n",
       "\n",
       "                                         LLM_RESPONSE  SURVIVED  \n",
       "13                                           Survived         1  \n",
       "39                                           Survived         1  \n",
       "30                                           Survived         1  \n",
       "45  As an AI language model developed by OpenAI, I...         0  \n",
       "17                                           Survived         0  \n",
       "48  As an AI model developed by OpenAI, I don't ha...         0  \n",
       "26                                           Survived         1  \n",
       "25                                           Survived         0  \n",
       "32                                           Survived         0  \n",
       "19                                           Survived         1  "
      ]
     },
     "execution_count": 59,
     "metadata": {},
     "output_type": "execute_result"
    }
   ],
   "source": [
    "# test\n",
    "\n",
    "llm_outputs = []\n",
    "for prompt in tqdm(test_df[\"LLM_PROMPT\"], desc=\"Running GPT calls\"):\n",
    "    llm_outputs.append(ask_openai(prompt))\n",
    "test_df[\"LLM_RESPONSE\"] = llm_outputs\n",
    "test_df[[\"LLM_PROMPT\",\"LLM_RESPONSE\",\"SURVIVED\"]]\n"
   ]
  },
  {
   "cell_type": "code",
   "execution_count": 98,
   "id": "771e0b45",
   "metadata": {},
   "outputs": [
    {
     "data": {
      "text/plain": [
       "\"Patient was treated for COVID-19 with medications: NDA020800 0.3 ML Epinephrine 1 MG/ML Auto-Injector, Fexofenadine hydrochloride 30 MG Oral Tablet, Seasonique 91 Day Pack.\\n\\nStep 1: List three possible interpretations of the patient's condition based on the medications.\\nStep 2: For each interpretation, consider what the outcome might be.\\nStep 3: Choose the most likely outcome and respond with only one word: 'Survived' or 'Did not survive'.\""
      ]
     },
     "execution_count": 98,
     "metadata": {},
     "output_type": "execute_result"
    }
   ],
   "source": [
    "test_df[\"LLM_PROMPT_TOT\"][13]"
   ]
  },
  {
   "cell_type": "markdown",
   "id": "540bd374",
   "metadata": {},
   "source": []
  },
  {
   "cell_type": "code",
   "execution_count": 60,
   "id": "eebbf764",
   "metadata": {},
   "outputs": [
    {
     "data": {
      "application/vnd.jupyter.widget-view+json": {
       "model_id": "952a24e68df34636a197104a388c33ec",
       "version_major": 2,
       "version_minor": 0
      },
      "text/plain": [
       "Running Few-shot GPT calls:   0%|          | 0/10 [00:00<?, ?it/s]"
      ]
     },
     "metadata": {},
     "output_type": "display_data"
    },
    {
     "data": {
      "text/html": [
       "<div>\n",
       "<style scoped>\n",
       "    .dataframe tbody tr th:only-of-type {\n",
       "        vertical-align: middle;\n",
       "    }\n",
       "\n",
       "    .dataframe tbody tr th {\n",
       "        vertical-align: top;\n",
       "    }\n",
       "\n",
       "    .dataframe thead th {\n",
       "        text-align: right;\n",
       "    }\n",
       "</style>\n",
       "<table border=\"1\" class=\"dataframe\">\n",
       "  <thead>\n",
       "    <tr style=\"text-align: right;\">\n",
       "      <th></th>\n",
       "      <th>FEW_SHOT_PROMPT</th>\n",
       "      <th>LLM_FEW_SHOT_RESPONSE</th>\n",
       "      <th>SURVIVED</th>\n",
       "    </tr>\n",
       "  </thead>\n",
       "  <tbody>\n",
       "    <tr>\n",
       "      <th>13</th>\n",
       "      <td>\\nExample 1:\\nPatient was treated for COVID-19...</td>\n",
       "      <td>Survived</td>\n",
       "      <td>1</td>\n",
       "    </tr>\n",
       "    <tr>\n",
       "      <th>39</th>\n",
       "      <td>\\nExample 1:\\nPatient was treated for COVID-19...</td>\n",
       "      <td>Survived</td>\n",
       "      <td>1</td>\n",
       "    </tr>\n",
       "    <tr>\n",
       "      <th>30</th>\n",
       "      <td>\\nExample 1:\\nPatient was treated for COVID-19...</td>\n",
       "      <td>Survived</td>\n",
       "      <td>1</td>\n",
       "    </tr>\n",
       "    <tr>\n",
       "      <th>45</th>\n",
       "      <td>\\nExample 1:\\nPatient was treated for COVID-19...</td>\n",
       "      <td>Survived</td>\n",
       "      <td>0</td>\n",
       "    </tr>\n",
       "    <tr>\n",
       "      <th>17</th>\n",
       "      <td>\\nExample 1:\\nPatient was treated for COVID-19...</td>\n",
       "      <td>Survived</td>\n",
       "      <td>0</td>\n",
       "    </tr>\n",
       "    <tr>\n",
       "      <th>48</th>\n",
       "      <td>\\nExample 1:\\nPatient was treated for COVID-19...</td>\n",
       "      <td>Survived</td>\n",
       "      <td>0</td>\n",
       "    </tr>\n",
       "    <tr>\n",
       "      <th>26</th>\n",
       "      <td>\\nExample 1:\\nPatient was treated for COVID-19...</td>\n",
       "      <td>Survived</td>\n",
       "      <td>1</td>\n",
       "    </tr>\n",
       "    <tr>\n",
       "      <th>25</th>\n",
       "      <td>\\nExample 1:\\nPatient was treated for COVID-19...</td>\n",
       "      <td>Survived</td>\n",
       "      <td>0</td>\n",
       "    </tr>\n",
       "    <tr>\n",
       "      <th>32</th>\n",
       "      <td>\\nExample 1:\\nPatient was treated for COVID-19...</td>\n",
       "      <td>Survived</td>\n",
       "      <td>0</td>\n",
       "    </tr>\n",
       "    <tr>\n",
       "      <th>19</th>\n",
       "      <td>\\nExample 1:\\nPatient was treated for COVID-19...</td>\n",
       "      <td>Survived</td>\n",
       "      <td>1</td>\n",
       "    </tr>\n",
       "  </tbody>\n",
       "</table>\n",
       "</div>"
      ],
      "text/plain": [
       "                                      FEW_SHOT_PROMPT LLM_FEW_SHOT_RESPONSE  \\\n",
       "13  \\nExample 1:\\nPatient was treated for COVID-19...              Survived   \n",
       "39  \\nExample 1:\\nPatient was treated for COVID-19...              Survived   \n",
       "30  \\nExample 1:\\nPatient was treated for COVID-19...              Survived   \n",
       "45  \\nExample 1:\\nPatient was treated for COVID-19...              Survived   \n",
       "17  \\nExample 1:\\nPatient was treated for COVID-19...              Survived   \n",
       "48  \\nExample 1:\\nPatient was treated for COVID-19...              Survived   \n",
       "26  \\nExample 1:\\nPatient was treated for COVID-19...              Survived   \n",
       "25  \\nExample 1:\\nPatient was treated for COVID-19...              Survived   \n",
       "32  \\nExample 1:\\nPatient was treated for COVID-19...              Survived   \n",
       "19  \\nExample 1:\\nPatient was treated for COVID-19...              Survived   \n",
       "\n",
       "    SURVIVED  \n",
       "13         1  \n",
       "39         1  \n",
       "30         1  \n",
       "45         0  \n",
       "17         0  \n",
       "48         0  \n",
       "26         1  \n",
       "25         0  \n",
       "32         0  \n",
       "19         1  "
      ]
     },
     "execution_count": 60,
     "metadata": {},
     "output_type": "execute_result"
    }
   ],
   "source": [
    "# few shots\n",
    "few_shot_intro = \"\"\"\n",
    "Example 1:\n",
    "Patient was treated for COVID-19 with medications: Acetaminophen, Amoxicillin.\n",
    "Answer: Survived\n",
    "\n",
    "Example 2:\n",
    "Patient was treated for COVID-19 with medications: Ibuprofen, Penicillin.\n",
    "Answer: Did not survive\n",
    "\n",
    "Now answer the following with one word: 'Survived' or 'Did not Survive' \n",
    "\"\"\"\n",
    "test_df[\"FEW_SHOT_PROMPT\"] = few_shot_intro + test_df[\"LLM_PROMPT\"]\n",
    "few_shot_outputs = []\n",
    "for prompt in tqdm(test_df[\"FEW_SHOT_PROMPT\"], desc=\"Running Few-shot GPT calls\"):\n",
    "    few_shot_outputs.append(ask_openai(prompt))\n",
    "test_df[\"LLM_FEW_SHOT_RESPONSE\"] = few_shot_outputs\n",
    "\n",
    "test_df[[\"FEW_SHOT_PROMPT\",\"LLM_FEW_SHOT_RESPONSE\",\"SURVIVED\"]]"
   ]
  },
  {
   "cell_type": "code",
   "execution_count": 61,
   "id": "45225c79",
   "metadata": {},
   "outputs": [
    {
     "data": {
      "application/vnd.jupyter.widget-view+json": {
       "model_id": "045a4487b14e4070aa0bc5195da615c0",
       "version_major": 2,
       "version_minor": 0
      },
      "text/plain": [
       "Running CoT GPT calls:   0%|          | 0/10 [00:00<?, ?it/s]"
      ]
     },
     "metadata": {},
     "output_type": "display_data"
    },
    {
     "data": {
      "text/html": [
       "<div>\n",
       "<style scoped>\n",
       "    .dataframe tbody tr th:only-of-type {\n",
       "        vertical-align: middle;\n",
       "    }\n",
       "\n",
       "    .dataframe tbody tr th {\n",
       "        vertical-align: top;\n",
       "    }\n",
       "\n",
       "    .dataframe thead th {\n",
       "        text-align: right;\n",
       "    }\n",
       "</style>\n",
       "<table border=\"1\" class=\"dataframe\">\n",
       "  <thead>\n",
       "    <tr style=\"text-align: right;\">\n",
       "      <th></th>\n",
       "      <th>LLM_PROMPT_COT</th>\n",
       "      <th>LLM_COT_RESPONSE</th>\n",
       "      <th>SURVIVED</th>\n",
       "    </tr>\n",
       "  </thead>\n",
       "  <tbody>\n",
       "    <tr>\n",
       "      <th>13</th>\n",
       "      <td>The patient had COVID-19 and was treated with:...</td>\n",
       "      <td>Survived</td>\n",
       "      <td>1</td>\n",
       "    </tr>\n",
       "    <tr>\n",
       "      <th>39</th>\n",
       "      <td>The patient had COVID-19 and was treated with:...</td>\n",
       "      <td>Did not survive</td>\n",
       "      <td>1</td>\n",
       "    </tr>\n",
       "    <tr>\n",
       "      <th>30</th>\n",
       "      <td>The patient had COVID-19 and was treated with:...</td>\n",
       "      <td>The medications listed, Ferrous sulfate and Ca...</td>\n",
       "      <td>1</td>\n",
       "    </tr>\n",
       "    <tr>\n",
       "      <th>45</th>\n",
       "      <td>The patient had COVID-19 and was treated with:...</td>\n",
       "      <td>Survived</td>\n",
       "      <td>0</td>\n",
       "    </tr>\n",
       "    <tr>\n",
       "      <th>17</th>\n",
       "      <td>The patient had COVID-19 and was treated with:...</td>\n",
       "      <td>As an AI, I don't have real-time access to ind...</td>\n",
       "      <td>0</td>\n",
       "    </tr>\n",
       "    <tr>\n",
       "      <th>48</th>\n",
       "      <td>The patient had COVID-19 and was treated with:...</td>\n",
       "      <td>Survived</td>\n",
       "      <td>0</td>\n",
       "    </tr>\n",
       "    <tr>\n",
       "      <th>26</th>\n",
       "      <td>The patient had COVID-19 and was treated with:...</td>\n",
       "      <td>Survived</td>\n",
       "      <td>1</td>\n",
       "    </tr>\n",
       "    <tr>\n",
       "      <th>25</th>\n",
       "      <td>The patient had COVID-19 and was treated with:...</td>\n",
       "      <td>Survived</td>\n",
       "      <td>0</td>\n",
       "    </tr>\n",
       "    <tr>\n",
       "      <th>32</th>\n",
       "      <td>The patient had COVID-19 and was treated with:...</td>\n",
       "      <td>As an AI, I don't have the ability to predict ...</td>\n",
       "      <td>0</td>\n",
       "    </tr>\n",
       "    <tr>\n",
       "      <th>19</th>\n",
       "      <td>The patient had COVID-19 and was treated with:...</td>\n",
       "      <td>'Survived'</td>\n",
       "      <td>1</td>\n",
       "    </tr>\n",
       "  </tbody>\n",
       "</table>\n",
       "</div>"
      ],
      "text/plain": [
       "                                       LLM_PROMPT_COT  \\\n",
       "13  The patient had COVID-19 and was treated with:...   \n",
       "39  The patient had COVID-19 and was treated with:...   \n",
       "30  The patient had COVID-19 and was treated with:...   \n",
       "45  The patient had COVID-19 and was treated with:...   \n",
       "17  The patient had COVID-19 and was treated with:...   \n",
       "48  The patient had COVID-19 and was treated with:...   \n",
       "26  The patient had COVID-19 and was treated with:...   \n",
       "25  The patient had COVID-19 and was treated with:...   \n",
       "32  The patient had COVID-19 and was treated with:...   \n",
       "19  The patient had COVID-19 and was treated with:...   \n",
       "\n",
       "                                     LLM_COT_RESPONSE  SURVIVED  \n",
       "13                                           Survived         1  \n",
       "39                                    Did not survive         1  \n",
       "30  The medications listed, Ferrous sulfate and Ca...         1  \n",
       "45                                           Survived         0  \n",
       "17  As an AI, I don't have real-time access to ind...         0  \n",
       "48                                           Survived         0  \n",
       "26                                           Survived         1  \n",
       "25                                           Survived         0  \n",
       "32  As an AI, I don't have the ability to predict ...         0  \n",
       "19                                         'Survived'         1  "
      ]
     },
     "execution_count": 61,
     "metadata": {},
     "output_type": "execute_result"
    }
   ],
   "source": [
    "# chain of thoughts\n",
    "cot_outputs = []\n",
    "for prompt in tqdm(test_df[\"LLM_PROMPT_COT\"], desc=\"Running CoT GPT calls\"):\n",
    "    cot_outputs.append(ask_openai(prompt))\n",
    "test_df[\"LLM_COT_RESPONSE\"] = cot_outputs\n",
    "test_df[[\"LLM_PROMPT_COT\", \"LLM_COT_RESPONSE\", \"SURVIVED\"]]"
   ]
  },
  {
   "cell_type": "code",
   "execution_count": 62,
   "id": "7e279f02",
   "metadata": {},
   "outputs": [
    {
     "data": {
      "application/vnd.jupyter.widget-view+json": {
       "model_id": "c5c432bb47fd4ebbb52d7625ba4873f4",
       "version_major": 2,
       "version_minor": 0
      },
      "text/plain": [
       "Running ToT GPT calls:   0%|          | 0/10 [00:00<?, ?it/s]"
      ]
     },
     "metadata": {},
     "output_type": "display_data"
    }
   ],
   "source": [
    "# tree of thoughts\n",
    "tot_outputs = []\n",
    "for prompt in tqdm(test_df[\"LLM_PROMPT_TOT\"], desc=\"Running ToT GPT calls\"):\n",
    "    tot_outputs.append(ask_openai(prompt))\n",
    "test_df[\"LLM_TOT_RESPONSE\"] = tot_outputs\n",
    "print(test_df[[\"LLM_PROMPT_TOT\", \"LLM_TOT_RESPONSE\", \"SURVIVED\"]])\n",
    "print(test_df['LLM_TOT_RESPONSE'][30])"
   ]
  },
  {
   "cell_type": "code",
   "execution_count": 63,
   "id": "4f2cf889",
   "metadata": {},
   "outputs": [
    {
     "name": "stdout",
     "output_type": "stream",
     "text": [
      "                                       LLM_PROMPT_TOT  \\\n",
      "13  Patient was treated for COVID-19 with medicati...   \n",
      "39  Patient was treated for COVID-19 with medicati...   \n",
      "30  Patient was treated for COVID-19 with medicati...   \n",
      "45  Patient was treated for COVID-19 with medicati...   \n",
      "17  Patient was treated for COVID-19 with medicati...   \n",
      "48  Patient was treated for COVID-19 with medicati...   \n",
      "26  Patient was treated for COVID-19 with medicati...   \n",
      "25  Patient was treated for COVID-19 with medicati...   \n",
      "32  Patient was treated for COVID-19 with medicati...   \n",
      "19  Patient was treated for COVID-19 with medicati...   \n",
      "\n",
      "                                     LLM_TOT_RESPONSE  SURVIVED  \n",
      "13  Step 1: \\n1. The patient might have experience...         1  \n",
      "39  Step 1: \\na) The patient might have cancer: Le...         1  \n",
      "30  Step 1:\\n1. The patient might have been anemic...         1  \n",
      "45  Step 1: \\n1. The patient might have been suffe...         0  \n",
      "17  Step 1:\\n1) The patient has severe COVID-19 in...         0  \n",
      "48  Step 1:\\n- Interpretation 1: The patient may h...         0  \n",
      "26  Step 1: \\n1. The patient has high blood pressu...         1  \n",
      "25  Step 1:\\nInterpretation 1: The patient has bee...         0  \n",
      "32  Step 1: \\n1. The patient may be dealing with a...         0  \n",
      "19  Step 1: \\n1. The patient may have been sufferi...         1  \n",
      "Step 1:\n",
      "1. The patient might have been anemic in addition to having COVID-19, as ferrous sulfate is typically prescribed to treat iron deficiency anemia. The medication Camila is a hormonal contraceptive, which may not necessarily be related to the patient's COVID-19 condition.\n",
      "2. The patient could have been suffering from heavy menstrual bleeding, which is often treated with ferrous sulfate to compensate for the loss of iron and Camila to regulate the menstrual cycle.\n",
      "3. The patient might have been suffering from COVID-19 and unrelated conditions such as anemia and a need for contraception.\n",
      "\n",
      "Step 2:\n",
      "1. If the patient was anemic, their COVID-19 symptoms could have been more severe due to their compromised health. However, with adequate treatment for both conditions, the outcome could be positive.\n",
      "2. If the patient was dealing with heavy menstrual bleeding, the ferrous sulfate would help prevent the health risks associated with iron deficiency, and the hormonal contraceptive would regulate their cycle. This shouldn't affect the patient's COVID-19 outcome negatively, assuming they received proper treatment for the virus as well.\n",
      "3. If the patient was suffering from COVID-19 and unrelated conditions, the outcome would primarily depend on how severe their COVID-19 symptoms were and how well those were managed, along with management of their other health conditions.\n",
      "\n",
      "Step 3:\n",
      "Based on the information available, it's not possible to definitively predict the patient's outcome from COVID-19. However, given the medications listed and assuming they received proper treatment for COVID-19, the most likely outcome is 'Survived'.\n"
     ]
    }
   ],
   "source": [
    "# print(test_df[[\"LLM_PROMPT_TOT\", \"LLM_TOT_RESPONSE\", \"SURVIVED\"]])\n",
    "# print(test_df['LLM_TOT_RESPONSE'][30])"
   ]
  },
  {
   "cell_type": "code",
   "execution_count": 93,
   "id": "f69315c0",
   "metadata": {},
   "outputs": [],
   "source": [
    "# cleaning the response as some responses are large and ambigous, keeping the response in one word\n",
    "def clean_response(text):\n",
    "    text = text.lower().strip()\n",
    "    if \"did not survive\" in text:\n",
    "        return 0\n",
    "    elif \"survived\" in text:\n",
    "        return 1\n",
    "    return -1\n"
   ]
  },
  {
   "cell_type": "markdown",
   "id": "c9106614",
   "metadata": {},
   "source": [
    "# Evaluation"
   ]
  },
  {
   "cell_type": "code",
   "execution_count": 65,
   "id": "4d01e5c9",
   "metadata": {},
   "outputs": [],
   "source": [
    "test_df[\"LLM_CLEAN\"] = test_df[\"LLM_RESPONSE\"].apply(clean_response)\n",
    "test_df[\"LLM_FEW_SHOT_CLEAN\"] = test_df[\"LLM_FEW_SHOT_RESPONSE\"].apply(clean_response)\n",
    "test_df[\"LLM_COT_CLEAN\"] = test_df[\"LLM_COT_RESPONSE\"].apply(clean_response)\n",
    "test_df[\"LLM_TOT_CLEAN\"] = test_df[\"LLM_TOT_RESPONSE\"].apply(clean_response)\n",
    "\n",
    "\n",
    "true_labels = test_df[\"SURVIVED\"]\n",
    "pred_llm = test_df[\"LLM_CLEAN\"]\n",
    "pred_few = test_df[\"LLM_FEW_SHOT_CLEAN\"]\n",
    "pred_cot = test_df[\"LLM_COT_CLEAN\"]\n",
    "pred_tot = test_df[\"LLM_TOT_CLEAN\"]\n",
    "\n"
   ]
  },
  {
   "cell_type": "code",
   "execution_count": 66,
   "id": "dc639fd4",
   "metadata": {},
   "outputs": [
    {
     "data": {
      "text/html": [
       "<div>\n",
       "<style scoped>\n",
       "    .dataframe tbody tr th:only-of-type {\n",
       "        vertical-align: middle;\n",
       "    }\n",
       "\n",
       "    .dataframe tbody tr th {\n",
       "        vertical-align: top;\n",
       "    }\n",
       "\n",
       "    .dataframe thead th {\n",
       "        text-align: right;\n",
       "    }\n",
       "</style>\n",
       "<table border=\"1\" class=\"dataframe\">\n",
       "  <thead>\n",
       "    <tr style=\"text-align: right;\">\n",
       "      <th></th>\n",
       "      <th>SURVIVED</th>\n",
       "      <th>LLM_RESPONSE</th>\n",
       "      <th>LLM_CLEAN</th>\n",
       "      <th>LLM_FEW_SHOT_RESPONSE</th>\n",
       "      <th>LLM_FEW_SHOT_CLEAN</th>\n",
       "      <th>LLM_COT_CLEAN</th>\n",
       "      <th>LLM_TOT_CLEAN</th>\n",
       "    </tr>\n",
       "  </thead>\n",
       "  <tbody>\n",
       "    <tr>\n",
       "      <th>13</th>\n",
       "      <td>1</td>\n",
       "      <td>Survived</td>\n",
       "      <td>1</td>\n",
       "      <td>Survived</td>\n",
       "      <td>1</td>\n",
       "      <td>1</td>\n",
       "      <td>1</td>\n",
       "    </tr>\n",
       "    <tr>\n",
       "      <th>39</th>\n",
       "      <td>1</td>\n",
       "      <td>Survived</td>\n",
       "      <td>1</td>\n",
       "      <td>Survived</td>\n",
       "      <td>1</td>\n",
       "      <td>0</td>\n",
       "      <td>1</td>\n",
       "    </tr>\n",
       "    <tr>\n",
       "      <th>30</th>\n",
       "      <td>1</td>\n",
       "      <td>Survived</td>\n",
       "      <td>1</td>\n",
       "      <td>Survived</td>\n",
       "      <td>1</td>\n",
       "      <td>-1</td>\n",
       "      <td>1</td>\n",
       "    </tr>\n",
       "    <tr>\n",
       "      <th>45</th>\n",
       "      <td>0</td>\n",
       "      <td>As an AI language model developed by OpenAI, I...</td>\n",
       "      <td>-1</td>\n",
       "      <td>Survived</td>\n",
       "      <td>1</td>\n",
       "      <td>1</td>\n",
       "      <td>0</td>\n",
       "    </tr>\n",
       "    <tr>\n",
       "      <th>17</th>\n",
       "      <td>0</td>\n",
       "      <td>Survived</td>\n",
       "      <td>1</td>\n",
       "      <td>Survived</td>\n",
       "      <td>1</td>\n",
       "      <td>-1</td>\n",
       "      <td>0</td>\n",
       "    </tr>\n",
       "    <tr>\n",
       "      <th>48</th>\n",
       "      <td>0</td>\n",
       "      <td>As an AI model developed by OpenAI, I don't ha...</td>\n",
       "      <td>-1</td>\n",
       "      <td>Survived</td>\n",
       "      <td>1</td>\n",
       "      <td>1</td>\n",
       "      <td>0</td>\n",
       "    </tr>\n",
       "    <tr>\n",
       "      <th>26</th>\n",
       "      <td>1</td>\n",
       "      <td>Survived</td>\n",
       "      <td>1</td>\n",
       "      <td>Survived</td>\n",
       "      <td>1</td>\n",
       "      <td>1</td>\n",
       "      <td>1</td>\n",
       "    </tr>\n",
       "    <tr>\n",
       "      <th>25</th>\n",
       "      <td>0</td>\n",
       "      <td>Survived</td>\n",
       "      <td>1</td>\n",
       "      <td>Survived</td>\n",
       "      <td>1</td>\n",
       "      <td>1</td>\n",
       "      <td>0</td>\n",
       "    </tr>\n",
       "    <tr>\n",
       "      <th>32</th>\n",
       "      <td>0</td>\n",
       "      <td>Survived</td>\n",
       "      <td>1</td>\n",
       "      <td>Survived</td>\n",
       "      <td>1</td>\n",
       "      <td>-1</td>\n",
       "      <td>0</td>\n",
       "    </tr>\n",
       "    <tr>\n",
       "      <th>19</th>\n",
       "      <td>1</td>\n",
       "      <td>Survived</td>\n",
       "      <td>1</td>\n",
       "      <td>Survived</td>\n",
       "      <td>1</td>\n",
       "      <td>1</td>\n",
       "      <td>1</td>\n",
       "    </tr>\n",
       "  </tbody>\n",
       "</table>\n",
       "</div>"
      ],
      "text/plain": [
       "    SURVIVED                                       LLM_RESPONSE  LLM_CLEAN  \\\n",
       "13         1                                           Survived          1   \n",
       "39         1                                           Survived          1   \n",
       "30         1                                           Survived          1   \n",
       "45         0  As an AI language model developed by OpenAI, I...         -1   \n",
       "17         0                                           Survived          1   \n",
       "48         0  As an AI model developed by OpenAI, I don't ha...         -1   \n",
       "26         1                                           Survived          1   \n",
       "25         0                                           Survived          1   \n",
       "32         0                                           Survived          1   \n",
       "19         1                                           Survived          1   \n",
       "\n",
       "   LLM_FEW_SHOT_RESPONSE  LLM_FEW_SHOT_CLEAN  LLM_COT_CLEAN  LLM_TOT_CLEAN  \n",
       "13              Survived                   1              1              1  \n",
       "39              Survived                   1              0              1  \n",
       "30              Survived                   1             -1              1  \n",
       "45              Survived                   1              1              0  \n",
       "17              Survived                   1             -1              0  \n",
       "48              Survived                   1              1              0  \n",
       "26              Survived                   1              1              1  \n",
       "25              Survived                   1              1              0  \n",
       "32              Survived                   1             -1              0  \n",
       "19              Survived                   1              1              1  "
      ]
     },
     "execution_count": 66,
     "metadata": {},
     "output_type": "execute_result"
    }
   ],
   "source": [
    "test_df[['SURVIVED','LLM_RESPONSE','LLM_CLEAN', 'LLM_FEW_SHOT_RESPONSE','LLM_FEW_SHOT_CLEAN','LLM_COT_CLEAN', 'LLM_TOT_CLEAN']]"
   ]
  },
  {
   "cell_type": "code",
   "execution_count": 67,
   "id": "58483dec",
   "metadata": {},
   "outputs": [
    {
     "name": "stdout",
     "output_type": "stream",
     "text": [
      "LLM AUROC: 0.700, AUPRC: 0.625\n",
      "Few-shot AUROC: 0.500, AUPRC: 0.500\n",
      "CoT AUROC: 0.540, AUPRC: 0.514\n",
      "ToT AUROC: 1.000, AUPRC: 1.000\n"
     ]
    }
   ],
   "source": [
    "auroc_llm = roc_auc_score(true_labels, pred_llm)\n",
    "auprc_llm = average_precision_score(true_labels, pred_llm)\n",
    "auroc_few = roc_auc_score(true_labels, pred_few)\n",
    "auprc_few = average_precision_score(true_labels, pred_few)\n",
    "auroc_cot = roc_auc_score(true_labels, pred_cot)\n",
    "auprc_cot = average_precision_score(true_labels, pred_cot)\n",
    "auroc_tot = roc_auc_score(true_labels, pred_tot)\n",
    "auprc_tot = average_precision_score(true_labels, pred_tot)\n",
    "\n",
    "print(f\"LLM AUROC: {auroc_llm:.3f}, AUPRC: {auprc_llm:.3f}\")\n",
    "print(f\"Few-shot AUROC: {auroc_few:.3f}, AUPRC: {auprc_few:.3f}\")\n",
    "print(f\"CoT AUROC: {auroc_cot:.3f}, AUPRC: {auprc_cot:.3f}\")\n",
    "print(f\"ToT AUROC: {auroc_tot:.3f}, AUPRC: {auprc_tot:.3f}\")"
   ]
  },
  {
   "cell_type": "markdown",
   "id": "b7c70836",
   "metadata": {},
   "source": [
    "# Prediction of survivality of covid patients using chatgpt embeddings and Logistic Regression"
   ]
  },
  {
   "cell_type": "code",
   "execution_count": 80,
   "id": "bb1526e3",
   "metadata": {},
   "outputs": [],
   "source": [
    "def generate_embeddings(text, model=\"text-embedding-ada-002\"):\n",
    "    response = client.embeddings.create(input=text, model=model)\n",
    "    return response.data[0].embedding"
   ]
  },
  {
   "cell_type": "code",
   "execution_count": 81,
   "id": "ef831b27",
   "metadata": {},
   "outputs": [],
   "source": [
    "train_df[\"TEXT\"] = train_df[\"MEDICATIONS\"].apply(lambda meds: \", \".join(meds[:10]))\n",
    "test_df[\"TEXT\"] = test_df[\"MEDICATIONS\"].apply(lambda meds: \", \".join(meds[:10]))"
   ]
  },
  {
   "cell_type": "code",
   "execution_count": 84,
   "id": "3d225bc7",
   "metadata": {},
   "outputs": [
    {
     "data": {
      "application/vnd.jupyter.widget-view+json": {
       "model_id": "44a297a243b84762a6b3dd8ef5523caf",
       "version_major": 2,
       "version_minor": 0
      },
      "text/plain": [
       "Generating train embeddings:   0%|          | 0/40 [00:00<?, ?it/s]"
      ]
     },
     "metadata": {},
     "output_type": "display_data"
    },
    {
     "data": {
      "application/vnd.jupyter.widget-view+json": {
       "model_id": "a99117bd5bb1403bba2999477deaa0f7",
       "version_major": 2,
       "version_minor": 0
      },
      "text/plain": [
       "Generating test embeddings:   0%|          | 0/10 [00:00<?, ?it/s]"
      ]
     },
     "metadata": {},
     "output_type": "display_data"
    }
   ],
   "source": [
    "# Generate embeddings \n",
    "train_embeddings = []\n",
    "for text in tqdm(train_df[\"TEXT\"], desc=\"Generating train embeddings\"):\n",
    "    train_embeddings.append(generate_embeddings(text))\n",
    "\n",
    "test_embeddings = []\n",
    "for text in tqdm(test_df[\"TEXT\"], desc=\"Generating test embeddings\"):\n",
    "    test_embeddings.append(generate_embeddings(text))\n",
    "\n",
    "import numpy as np\n",
    "X_train = np.array(train_embeddings)\n",
    "y_train = train_df[\"SURVIVED\"].values\n",
    "\n",
    "X_test = np.array(test_embeddings)\n",
    "y_test = test_df[\"SURVIVED\"].values"
   ]
  },
  {
   "cell_type": "code",
   "execution_count": 88,
   "id": "36773422",
   "metadata": {},
   "outputs": [
    {
     "name": "stdout",
     "output_type": "stream",
     "text": [
      "\n",
      "AUROC: 0.8 \n",
      "AUPRC 0.835\n"
     ]
    }
   ],
   "source": [
    "from sklearn.linear_model import LogisticRegression\n",
    "from sklearn.metrics import classification_report, roc_auc_score\n",
    "\n",
    "clf = LogisticRegression(max_iter=1000)\n",
    "clf.fit(X_train, y_train)\n",
    "\n",
    "# Predict\n",
    "y_pred = clf.predict(X_test)\n",
    "y_prob = clf.predict_proba(X_test)[:,1]\n",
    "auroc = roc_auc_score(y_test, y_prob)\n",
    "auprc = average_precision_score(y_test, y_prob)\n",
    "print('\\nAUROC:', auroc, '\\nAUPRC', auprc)"
   ]
  }
 ],
 "metadata": {
  "kernelspec": {
   "display_name": "mimic-llm",
   "language": "python",
   "name": "python3"
  },
  "language_info": {
   "codemirror_mode": {
    "name": "ipython",
    "version": 3
   },
   "file_extension": ".py",
   "mimetype": "text/x-python",
   "name": "python",
   "nbconvert_exporter": "python",
   "pygments_lexer": "ipython3",
   "version": "3.9.21"
  }
 },
 "nbformat": 4,
 "nbformat_minor": 5
}
